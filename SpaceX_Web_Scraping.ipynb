{
 "cells": [
  {
   "cell_type": "markdown",
   "id": "e36bae78-79a6-42bb-bdcc-d98bb7a7e2fc",
   "metadata": {},
   "source": [
    "## Space X Web Scraping Additional Data\n",
    "#### The Objective of this portion of our SpaceX Analysis is to gather additional data from Wikipedia utilizing BeautifulSoup for Webscraping functions. We'll begin by installing and importing features we'll need for this portion of this project. "
   ]
  },
  {
   "cell_type": "code",
   "execution_count": 1,
   "id": "1d37a32d-aaa0-45ad-9c53-40d66e9a6a65",
   "metadata": {
    "scrolled": true
   },
   "outputs": [
    {
     "name": "stdout",
     "output_type": "stream",
     "text": [
      "Requirement already satisfied: beautifulsoup4 in e:\\anaconda\\lib\\site-packages (4.12.3)\n",
      "Requirement already satisfied: soupsieve>1.2 in e:\\anaconda\\lib\\site-packages (from beautifulsoup4) (2.5)\n"
     ]
    },
    {
     "name": "stderr",
     "output_type": "stream",
     "text": [
      "WARNING: Ignoring invalid distribution ~lotly (E:\\Anaconda\\Lib\\site-packages)\n",
      "WARNING: Ignoring invalid distribution ~lotly (E:\\Anaconda\\Lib\\site-packages)\n",
      "WARNING: Ignoring invalid distribution ~lotly (E:\\Anaconda\\Lib\\site-packages)\n"
     ]
    },
    {
     "name": "stdout",
     "output_type": "stream",
     "text": [
      "Requirement already satisfied: requests in e:\\anaconda\\lib\\site-packages (2.32.3)\n",
      "Requirement already satisfied: charset-normalizer<4,>=2 in e:\\anaconda\\lib\\site-packages (from requests) (3.3.2)\n",
      "Requirement already satisfied: idna<4,>=2.5 in e:\\anaconda\\lib\\site-packages (from requests) (3.7)\n",
      "Requirement already satisfied: urllib3<3,>=1.21.1 in e:\\anaconda\\lib\\site-packages (from requests) (2.3.0)\n",
      "Requirement already satisfied: certifi>=2017.4.17 in e:\\anaconda\\lib\\site-packages (from requests) (2025.6.15)\n"
     ]
    },
    {
     "name": "stderr",
     "output_type": "stream",
     "text": [
      "WARNING: Ignoring invalid distribution ~lotly (E:\\Anaconda\\Lib\\site-packages)\n",
      "WARNING: Ignoring invalid distribution ~lotly (E:\\Anaconda\\Lib\\site-packages)\n",
      "WARNING: Ignoring invalid distribution ~lotly (E:\\Anaconda\\Lib\\site-packages)\n"
     ]
    }
   ],
   "source": [
    "!pip3 install beautifulsoup4\n",
    "!pip3 install requests"
   ]
  },
  {
   "cell_type": "code",
   "execution_count": 2,
   "id": "b6621900-3aee-4553-b56e-d9a133ac1207",
   "metadata": {},
   "outputs": [],
   "source": [
    "import sys\n",
    "\n",
    "import requests\n",
    "from bs4 import BeautifulSoup\n",
    "import re\n",
    "import unicodedata\n",
    "import pandas as pd"
   ]
  },
  {
   "cell_type": "markdown",
   "id": "c23a7d26-3c3f-4121-bc20-b25c842a20f2",
   "metadata": {},
   "source": [
    "#### To begin, we'll utilize some functions for web scraping HTML tables. All credit for these functions goes to Yan Luo and Nayef Abou Tayoun. "
   ]
  },
  {
   "cell_type": "code",
   "execution_count": 6,
   "id": "9275ef11-a61b-45a2-840a-ec5ac8402533",
   "metadata": {},
   "outputs": [],
   "source": [
    "def date_time(table_cells):\n",
    "    \"\"\"\n",
    "    This function returns the data and time from the HTML  table cell\n",
    "    Input: the  element of a table data cell extracts extra row\n",
    "    \"\"\"\n",
    "    return [data_time.strip() for data_time in list(table_cells.strings)][0:2]\n",
    "\n",
    "def booster_version(table_cells):\n",
    "    \"\"\"\n",
    "    This function returns the booster version from the HTML  table cell \n",
    "    Input: the  element of a table data cell extracts extra row\n",
    "    \"\"\"\n",
    "    out=''.join([booster_version for i,booster_version in enumerate( table_cells.strings) if i%2==0][0:-1])\n",
    "    return out\n",
    "\n",
    "def landing_status(table_cells):\n",
    "    \"\"\"\n",
    "    This function returns the landing status from the HTML table cell \n",
    "    Input: the  element of a table data cell extracts extra row\n",
    "    \"\"\"\n",
    "    out=[i for i in table_cells.strings][0]\n",
    "    return out\n",
    "\n",
    "\n",
    "def get_mass(table_cells):\n",
    "    mass=unicodedata.normalize(\"NFKD\", table_cells.text).strip()\n",
    "    if mass:\n",
    "        mass.find(\"kg\")\n",
    "        new_mass=mass[0:mass.find(\"kg\")+2]\n",
    "    else:\n",
    "        new_mass=0\n",
    "    return new_mass\n",
    "\n",
    "\n",
    "def extract_column_from_header(row):\n",
    "    \"\"\"\n",
    "    This function returns the landing status from the HTML table cell \n",
    "    Input: the  element of a table data cell extracts extra row\n",
    "    \"\"\"\n",
    "    if (row.br):\n",
    "        row.br.extract()\n",
    "    if row.a:\n",
    "        row.a.extract()\n",
    "    if row.sup:\n",
    "        row.sup.extract()\n",
    "        \n",
    "    colunm_name = ' '.join(row.contents)\n",
    "    \n",
    "    # Filter the digit and empty names\n",
    "    if not(colunm_name.strip().isdigit()):\n",
    "        colunm_name = colunm_name.strip()\n",
    "        return colunm_name    "
   ]
  },
  {
   "cell_type": "markdown",
   "id": "7cb26675-366d-43a8-b2f2-ae67835882c5",
   "metadata": {},
   "source": [
    "#### As the previous data we collected was specifically on Falcon 9 launches, we'll be sure to utilize the Wiki page that is specific for Falcon 9 launches. We'll assign this page to static_url."
   ]
  },
  {
   "cell_type": "code",
   "execution_count": 7,
   "id": "0d1bd648-2c75-46a2-91f7-4bcc8655e7c4",
   "metadata": {},
   "outputs": [],
   "source": [
    "static_url = \"https://en.wikipedia.org/w/index.php?title=List_of_Falcon_9_and_Falcon_Heavy_launches&oldid=1027686922\""
   ]
  },
  {
   "cell_type": "markdown",
   "id": "b2203840-2bf5-4e1a-88b8-7c01b3721dce",
   "metadata": {},
   "source": [
    "#### To begin, we'll perform an HTTP GET to request the Falcon 9 HTML page as an HTTP response. We'll also verify it was successful or not by verifying we received a response code of '200'. We'll also create a bs4 object to parse the html info and verify we've done everything successfully by printing the title of the page. "
   ]
  },
  {
   "cell_type": "code",
   "execution_count": 5,
   "id": "924b85e4-eadb-4e79-aed7-d723a3d07a38",
   "metadata": {},
   "outputs": [
    {
     "name": "stdout",
     "output_type": "stream",
     "text": [
      "Request Successful.\n"
     ]
    }
   ],
   "source": [
    "# using requests.get() method with the static_url\n",
    "response = requests.get(static_url)\n",
    "# assigning the response to a object\n",
    "if response.status_code == 200:\n",
    "    print(\"Request Successful.\")\n",
    "    html_content = response.text\n",
    "else:\n",
    "    print(f\"Request failed with status code: {response.status_code}\")"
   ]
  },
  {
   "cell_type": "code",
   "execution_count": 8,
   "id": "a8f945c2-3b79-48d8-a8a3-c24be2e214c9",
   "metadata": {},
   "outputs": [],
   "source": [
    "# Using BeautifulSoup() to create a BeautifulSoup object from a response text content\n",
    "soup = BeautifulSoup(response.text, 'html.parser')"
   ]
  },
  {
   "cell_type": "code",
   "execution_count": 9,
   "id": "693dbf32-cd92-48c4-9935-9e3878c2c577",
   "metadata": {},
   "outputs": [
    {
     "name": "stdout",
     "output_type": "stream",
     "text": [
      "List of Falcon 9 and Falcon Heavy launches - Wikipedia\n"
     ]
    }
   ],
   "source": [
    "# Using soup.title attribute\n",
    "print(soup.title.text)"
   ]
  },
  {
   "cell_type": "markdown",
   "id": "4ea12979-1624-4786-b33c-0bd0ad8b9a2d",
   "metadata": {},
   "source": [
    "#### Next up, we'll collect the relevant column names we want for this analysis from the HTML table header. We'll also print this and collapse the cell (as there is a large amount of information here,) to verify this was done correctly. "
   ]
  },
  {
   "cell_type": "code",
   "execution_count": 10,
   "id": "54072b5d-5b07-427c-be56-ae9a8ea9a314",
   "metadata": {},
   "outputs": [],
   "source": [
    "# Use the find_all function in the BeautifulSoup object, with element type `table`\n",
    "html_tables = soup.find_all('table')"
   ]
  },
  {
   "cell_type": "code",
   "execution_count": null,
   "id": "f06dccc0-7ea6-4c07-b28f-6a1b9b2ab75b",
   "metadata": {},
   "outputs": [],
   "source": [
    "# Let's print the third table and check its content\n",
    "first_launch_table = html_tables[2]\n",
    "print(first_launch_table)"
   ]
  },
  {
   "cell_type": "markdown",
   "id": "c50e62a4-9659-4478-9ea5-d11dfb857f65",
   "metadata": {},
   "source": [
    "#### We'll now iterate through the <th> elements and utilize the extract_column_from_header() function to extract the column names one at a time. "
   ]
  },
  {
   "cell_type": "code",
   "execution_count": 12,
   "id": "a572ad41-99c9-4c6a-88c7-fdb21ed369c1",
   "metadata": {},
   "outputs": [],
   "source": [
    "column_names = []\n",
    "\n",
    "\n",
    "# Apply find_all() to get all 'th' elements from the first row of the table\n",
    "th_elements = first_launch_table.find('tr').find_all('th')\n",
    "\n",
    "# Iterate through each th element and extract column name\n",
    "for th in th_elements:\n",
    "    name = extract_column_from_header(th)  # Pass the th element, not its text\n",
    "    if name is not None and len(name) > 0:\n",
    "        column_names.append(name)"
   ]
  },
  {
   "cell_type": "code",
   "execution_count": 13,
   "id": "df5ae7bc-a29a-4491-b3a9-5ceb47936a12",
   "metadata": {},
   "outputs": [
    {
     "name": "stdout",
     "output_type": "stream",
     "text": [
      "['Flight No.', 'Date and time ( )', 'Launch site', 'Payload', 'Payload mass', 'Orbit', 'Customer', 'Launch outcome']\n"
     ]
    }
   ],
   "source": [
    "print(column_names)"
   ]
  },
  {
   "cell_type": "markdown",
   "id": "1e591b57-c90f-4be7-9294-b4bc4760153e",
   "metadata": {},
   "source": [
    "#### Finally, we are going to create a data frame by parsing the tables on the Wiki page. We'll start by creating a dictionary, filling the dictionary with data, and then convert that dictionary into a dataframe. "
   ]
  },
  {
   "cell_type": "code",
   "execution_count": 14,
   "id": "ebe92222-dfb5-4c82-8295-1b474b2125e2",
   "metadata": {},
   "outputs": [],
   "source": [
    "launch_dict= dict.fromkeys(column_names)\n",
    "\n",
    "# Remove an irrelvant column\n",
    "del launch_dict['Date and time ( )']\n",
    "\n",
    "# Let's initial the launch_dict with each value to be an empty list\n",
    "launch_dict['Flight No.'] = []\n",
    "launch_dict['Launch site'] = []\n",
    "launch_dict['Payload'] = []\n",
    "launch_dict['Payload mass'] = []\n",
    "launch_dict['Orbit'] = []\n",
    "launch_dict['Customer'] = []\n",
    "launch_dict['Launch outcome'] = []\n",
    "# Added some new columns\n",
    "launch_dict['Version Booster']=[]\n",
    "launch_dict['Booster landing']=[]\n",
    "launch_dict['Date']=[]\n",
    "launch_dict['Time']=[]"
   ]
  },
  {
   "cell_type": "code",
   "execution_count": 15,
   "id": "0da16026-730f-4c05-8d53-6eb1ac74dff7",
   "metadata": {},
   "outputs": [
    {
     "name": "stdout",
     "output_type": "stream",
     "text": [
      "F9 v1.07B0003.18\n",
      "F9 v1.07B0004.18\n",
      "F9 v1.07B0005.18\n",
      "F9 v1.07B0006.18\n",
      "F9 v1.07B0007.18\n",
      "F9 v1.17B10038\n",
      "F9 v1.1\n",
      "F9 v1.1\n",
      "F9 v1.1\n",
      "F9 v1.1\n",
      "F9 v1.1\n",
      "F9 v1.1[\n",
      "F9 v1.1[\n",
      "F9 v1.1[\n",
      "F9 v1.1[\n",
      "F9 v1.1[\n",
      "F9 v1.1[\n",
      "F9 v1.1[\n",
      "F9 v1.1[\n",
      "F9 FT[\n",
      "F9 v1.1[\n",
      "F9 FT[\n",
      "F9 FT[\n",
      "F9 FT[\n",
      "F9 FT[\n",
      "F9 FT[\n",
      "F9 FT[\n",
      "F9 FT[\n",
      "F9 FT[\n",
      "F9 FT[\n",
      "F9 FT[\n",
      "F9 FT♺[\n",
      "F9 FT[\n",
      "F9 FT[\n",
      "F9 FT[\n",
      "F9 FTB1029.2195\n",
      "F9 FT[\n",
      "F9 FT[\n",
      "F9 B4[\n",
      "F9 FT[\n",
      "F9 B4[\n",
      "F9 B4[\n",
      "F9 FTB1031.2220\n",
      "F9 B4[\n",
      "F9 FTB1035.2227\n",
      "F9 FTB1036.2227\n",
      "F9 B4[\n",
      "F9 FTB1032.2245\n",
      "F9 FTB1038.2268\n",
      "F9 B4[\n",
      "F9 B4B1041.2268\n",
      "F9 B4B1039.2292\n",
      "F9 B4[\n",
      "F9 B5311B1046.1268\n",
      "F9 B4B1043.2322\n",
      "F9 B4B1040.2268\n",
      "F9 B4B1045.2336\n",
      "F9 B5\n",
      "F9 B5349B1048[\n",
      "F9 B5B1046.2354\n",
      "F9 B5[\n",
      "F9 B5B1048.2364\n",
      "F9 B5B1047.2268\n",
      "F9 B5B1046.3268\n",
      "F9 B5[\n",
      "F9 B5[\n",
      "F9 B5B1049.2397\n",
      "F9 B5B1048.3399\n",
      "F9 B5[]413\n",
      "F9 B5[\n",
      "F9 B5B1049.3434\n",
      "F9 B5B1051.2420\n",
      "F9 B5B1056.2465\n",
      "F9 B5B1047.3472\n",
      "F9 B5\n",
      "F9 B5[\n",
      "F9 B5B1056.3482\n",
      "F9 B5\n",
      "F9 B5\n",
      "F9 B5\n",
      "F9 B5\n",
      "F9 B5\n",
      "F9 B5\n",
      "F9 B5\n",
      "F9 B5[\n",
      "F9 B5\n",
      "F9 B5\n",
      "F9 B5\n",
      "F9 B5B1058.2544\n",
      "F9 B5\n",
      "F9 B5B1049.6544\n",
      "F9 B5\n",
      "F9 B5B1060.2563\n",
      "F9 B5B1058.3565\n",
      "F9 B5B1051.6568\n",
      "F9 B5\n",
      "F9 B5\n",
      "F9 B5[\n",
      "F9 B5\n",
      "F9 B5 ♺[\n",
      "F9 B5 ♺[\n",
      "F9 B5 ♺\n",
      "F9 B5 ♺\n",
      "F9 B5\n",
      "F9 B5B1051.8609\n",
      "F9 B5B1058.5613\n",
      "F9 B5 ♺[\n",
      "F9 B5 ♺\n",
      "F9 B5 ♺[\n",
      "F9 B5 ♺[\n",
      "F9 B5 ♺\n",
      "F9 B5B1060.6643\n",
      "F9 B5 ♺\n",
      "F9 B5B1061.2647\n",
      "F9 B5B1060.7652\n",
      "F9 B5B1049.9655\n",
      "F9 B5B1051.10657\n",
      "F9 B5B1058.8660\n",
      "F9 B5B1063.2665\n",
      "F9 B5B1067.1668\n",
      "F9 B5\n"
     ]
    }
   ],
   "source": [
    "extracted_row = 0\n",
    "#Extract each table \n",
    "for table_number,table in enumerate(soup.find_all('table',\"wikitable plainrowheaders collapsible\")):\n",
    "   # get table row \n",
    "    for rows in table.find_all(\"tr\"):\n",
    "        #check to see if first table heading is as number corresponding to launch a number \n",
    "        if rows.th:\n",
    "            if rows.th.string:\n",
    "                flight_number=rows.th.string.strip()\n",
    "                flag=flight_number.isdigit()\n",
    "        else:\n",
    "            flag=False\n",
    "        #get table element \n",
    "        row=rows.find_all('td')\n",
    "        #if it is number save cells in a dictonary \n",
    "        if flag:\n",
    "            extracted_row += 1\n",
    "            # Flight Number value\n",
    "            # Append the flight_number into launch_dict with key `Flight No.`\n",
    "            launch_dict['Flight No.'].append(flight_number)\n",
    "            #print(flight_number)\n",
    "            datatimelist=date_time(row[0])\n",
    "            \n",
    "            # Date value\n",
    "            # Append the date into launch_dict with key `Date`\n",
    "            date = datatimelist[0].strip(',')\n",
    "            launch_dict['Date'].append(date)\n",
    "            #print(date)\n",
    "            \n",
    "            # Time value\n",
    "            # Append the time into launch_dict with key `Time`\n",
    "            time = datatimelist[1]\n",
    "            launch_dict['Time'].append(time)\n",
    "            #print(time)\n",
    "              \n",
    "            # Booster version\n",
    "            # Append the bv into launch_dict with key `Version Booster`\n",
    "            bv=booster_version(row[1])\n",
    "            if not(bv):\n",
    "                bv=row[1].a.string\n",
    "            launch_dict['Version Booster'].append(bv)\n",
    "            print(bv)\n",
    "            \n",
    "            # Launch Site\n",
    "            # Append the bv into launch_dict with key `Launch Site`\n",
    "            launch_site = row[2].a.string\n",
    "            launch_dict['Launch site'].append(launch_site)\n",
    "            #print(launch_site)\n",
    "            \n",
    "            # Payload\n",
    "            # Append the payload into launch_dict with key `Payload`\n",
    "            payload = row[3].a.string\n",
    "            launch_dict['Payload'].append(payload)\n",
    "            #print(payload)\n",
    "            \n",
    "            # Payload Mass\n",
    "            # Append the payload_mass into launch_dict with key `Payload mass`\n",
    "            payload_mass = get_mass(row[4])\n",
    "            launch_dict['Payload mass'].append(payload_mass)\n",
    "            #print(payload)\n",
    "            \n",
    "            # Orbit\n",
    "            # Append the orbit into launch_dict with key `Orbit`\n",
    "            orbit = row[5].a.string\n",
    "            launch_dict['Orbit'].append(orbit)\n",
    "            #print(orbit)\n",
    "            \n",
    "            # Customer\n",
    "            # Append the customer into launch_dict with key `Customer`\n",
    "            customer = row[6].a.string if row[6].a else row[6].get_text(strip=True) or ''\n",
    "            launch_dict['Customer'].append(customer)\n",
    "            #print(customer)\n",
    "            \n",
    "            # Launch outcome\n",
    "            # Append the launch_outcome into launch_dict with key `Launch outcome`\n",
    "            launch_outcome = list(row[7].strings)[0]\n",
    "            launch_dict['Launch outcome'].append(launch_outcome)\n",
    "            #print(launch_outcome)\n",
    "            \n",
    "            # Booster landing\n",
    "            # Append the launch_outcome into launch_dict with key `Booster landing`\n",
    "            booster_landing = landing_status(row[8])\n",
    "            launch_dict['Booster landing'].append(booster_landing)\n",
    "            #print(booster_landing)\n",
    "            "
   ]
  },
  {
   "cell_type": "markdown",
   "id": "d1b3ec94-dac7-4ca8-b23f-06ee10098b98",
   "metadata": {},
   "source": [
    "#### Now let's create the dataframe."
   ]
  },
  {
   "cell_type": "code",
   "execution_count": 16,
   "id": "56a52307-3f5a-41ef-afcd-6d64baa297cb",
   "metadata": {},
   "outputs": [],
   "source": [
    "df= pd.DataFrame({ key:pd.Series(value) for key, value in launch_dict.items() })"
   ]
  },
  {
   "cell_type": "code",
   "execution_count": 17,
   "id": "77ee49c6-e351-4bd5-b221-e18673366a06",
   "metadata": {},
   "outputs": [
    {
     "data": {
      "text/html": [
       "<div>\n",
       "<style scoped>\n",
       "    .dataframe tbody tr th:only-of-type {\n",
       "        vertical-align: middle;\n",
       "    }\n",
       "\n",
       "    .dataframe tbody tr th {\n",
       "        vertical-align: top;\n",
       "    }\n",
       "\n",
       "    .dataframe thead th {\n",
       "        text-align: right;\n",
       "    }\n",
       "</style>\n",
       "<table border=\"1\" class=\"dataframe\">\n",
       "  <thead>\n",
       "    <tr style=\"text-align: right;\">\n",
       "      <th></th>\n",
       "      <th>Flight No.</th>\n",
       "      <th>Launch site</th>\n",
       "      <th>Payload</th>\n",
       "      <th>Payload mass</th>\n",
       "      <th>Orbit</th>\n",
       "      <th>Customer</th>\n",
       "      <th>Launch outcome</th>\n",
       "      <th>Version Booster</th>\n",
       "      <th>Booster landing</th>\n",
       "      <th>Date</th>\n",
       "      <th>Time</th>\n",
       "    </tr>\n",
       "  </thead>\n",
       "  <tbody>\n",
       "    <tr>\n",
       "      <th>0</th>\n",
       "      <td>1</td>\n",
       "      <td>CCAFS</td>\n",
       "      <td>Dragon Spacecraft Qualification Unit</td>\n",
       "      <td>0</td>\n",
       "      <td>LEO</td>\n",
       "      <td>SpaceX</td>\n",
       "      <td>Success\\n</td>\n",
       "      <td>F9 v1.07B0003.18</td>\n",
       "      <td>Failure</td>\n",
       "      <td>4 June 2010</td>\n",
       "      <td>18:45</td>\n",
       "    </tr>\n",
       "    <tr>\n",
       "      <th>1</th>\n",
       "      <td>2</td>\n",
       "      <td>CCAFS</td>\n",
       "      <td>Dragon</td>\n",
       "      <td>0</td>\n",
       "      <td>LEO</td>\n",
       "      <td>NASA</td>\n",
       "      <td>Success</td>\n",
       "      <td>F9 v1.07B0004.18</td>\n",
       "      <td>Failure</td>\n",
       "      <td>8 December 2010</td>\n",
       "      <td>15:43</td>\n",
       "    </tr>\n",
       "    <tr>\n",
       "      <th>2</th>\n",
       "      <td>3</td>\n",
       "      <td>CCAFS</td>\n",
       "      <td>Dragon</td>\n",
       "      <td>525 kg</td>\n",
       "      <td>LEO</td>\n",
       "      <td>NASA</td>\n",
       "      <td>Success</td>\n",
       "      <td>F9 v1.07B0005.18</td>\n",
       "      <td>No attempt\\n</td>\n",
       "      <td>22 May 2012</td>\n",
       "      <td>07:44</td>\n",
       "    </tr>\n",
       "    <tr>\n",
       "      <th>3</th>\n",
       "      <td>4</td>\n",
       "      <td>CCAFS</td>\n",
       "      <td>SpaceX CRS-1</td>\n",
       "      <td>4,700 kg</td>\n",
       "      <td>LEO</td>\n",
       "      <td>NASA</td>\n",
       "      <td>Success\\n</td>\n",
       "      <td>F9 v1.07B0006.18</td>\n",
       "      <td>No attempt</td>\n",
       "      <td>8 October 2012</td>\n",
       "      <td>00:35</td>\n",
       "    </tr>\n",
       "    <tr>\n",
       "      <th>4</th>\n",
       "      <td>5</td>\n",
       "      <td>CCAFS</td>\n",
       "      <td>SpaceX CRS-2</td>\n",
       "      <td>4,877 kg</td>\n",
       "      <td>LEO</td>\n",
       "      <td>NASA</td>\n",
       "      <td>Success\\n</td>\n",
       "      <td>F9 v1.07B0007.18</td>\n",
       "      <td>No attempt\\n</td>\n",
       "      <td>1 March 2013</td>\n",
       "      <td>15:10</td>\n",
       "    </tr>\n",
       "  </tbody>\n",
       "</table>\n",
       "</div>"
      ],
      "text/plain": [
       "  Flight No. Launch site                               Payload Payload mass  \\\n",
       "0          1       CCAFS  Dragon Spacecraft Qualification Unit            0   \n",
       "1          2       CCAFS                                Dragon            0   \n",
       "2          3       CCAFS                                Dragon       525 kg   \n",
       "3          4       CCAFS                          SpaceX CRS-1     4,700 kg   \n",
       "4          5       CCAFS                          SpaceX CRS-2     4,877 kg   \n",
       "\n",
       "  Orbit Customer Launch outcome   Version Booster Booster landing  \\\n",
       "0   LEO   SpaceX      Success\\n  F9 v1.07B0003.18         Failure   \n",
       "1   LEO     NASA        Success  F9 v1.07B0004.18         Failure   \n",
       "2   LEO     NASA        Success  F9 v1.07B0005.18    No attempt\\n   \n",
       "3   LEO     NASA      Success\\n  F9 v1.07B0006.18      No attempt   \n",
       "4   LEO     NASA      Success\\n  F9 v1.07B0007.18    No attempt\\n   \n",
       "\n",
       "              Date   Time  \n",
       "0      4 June 2010  18:45  \n",
       "1  8 December 2010  15:43  \n",
       "2      22 May 2012  07:44  \n",
       "3   8 October 2012  00:35  \n",
       "4     1 March 2013  15:10  "
      ]
     },
     "execution_count": 17,
     "metadata": {},
     "output_type": "execute_result"
    }
   ],
   "source": [
    "df.head()"
   ]
  },
  {
   "cell_type": "markdown",
   "id": "993dff7e-683d-435c-9637-baab4f1fd61d",
   "metadata": {},
   "source": [
    "#### Finally, we'll export this to a CSV for future use. "
   ]
  },
  {
   "cell_type": "code",
   "execution_count": 18,
   "id": "f21abd9c-4903-4d6a-8b51-a862b65f70c2",
   "metadata": {},
   "outputs": [],
   "source": [
    "df.to_csv('spacex_web_scraped.csv', index=False)"
   ]
  },
  {
   "cell_type": "code",
   "execution_count": null,
   "id": "1bbf88e3-341f-4c49-89d1-94e6f3b06d2b",
   "metadata": {},
   "outputs": [],
   "source": []
  }
 ],
 "metadata": {
  "kernelspec": {
   "display_name": "Python [conda env:base] *",
   "language": "python",
   "name": "conda-base-py"
  },
  "language_info": {
   "codemirror_mode": {
    "name": "ipython",
    "version": 3
   },
   "file_extension": ".py",
   "mimetype": "text/x-python",
   "name": "python",
   "nbconvert_exporter": "python",
   "pygments_lexer": "ipython3",
   "version": "3.13.5"
  }
 },
 "nbformat": 4,
 "nbformat_minor": 5
}
